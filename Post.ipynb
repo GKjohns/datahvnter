{
 "cells": [
  {
   "cell_type": "code",
   "execution_count": 1,
   "metadata": {},
   "outputs": [
    {
     "name": "stdout",
     "output_type": "stream",
     "text": [
      "3.7.7 (default, Mar 26 2020, 10:32:53) \n",
      "[Clang 4.0.1 (tags/RELEASE_401/final)]\n"
     ]
    }
   ],
   "source": [
    "# Use svg graphics, display inline\n",
    "%matplotlib inline\n",
    "%config InlineBackend.figure_format = 'svg'\n",
    "\n",
    "import glob\n",
    "import re\n",
    "import copy\n",
    "import sys\n",
    "\n",
    "from time import time\n",
    "\n",
    "# Basic scientific computing imports\n",
    "import numpy as np\n",
    "import pandas as pd\n",
    "import matplotlib.pyplot as plt\n",
    "\n",
    "# display config\n",
    "pd.set_option('display.float_format', lambda x: '%.3f' % x)\n",
    "plt.rcParams['figure.figsize'] = 10, 6\n",
    "np.set_printoptions(suppress=True)\n",
    "\n",
    "print(sys.version)"
   ]
  },
  {
   "cell_type": "markdown",
   "metadata": {},
   "source": [
    "# Did the CHOP lead to an increase in police response time?\n",
    "\n",
    "2020 has been an interesting year for Seattle. In early January, the city was the first in the United States to document a COVID case and, subsequently, a COVID death. After the killing of George Floyd at the hands of Minneapolis police in May, waves of protests erupted across the country. Seattle's protests evelved into something else though, as city leadership directed the police officers of the East precinct to abandon the department entirely. Shortly after the police left, protesters took control of the area declaring is CHAZ (Capitol Hill Autonamous Zone) then CHOP (Capitol Hill Occupied Protest).\n",
    "\n",
    "The rise of CHOP ostensibly had two broad effects on policing in Seattle. Firstly, it caused a shift in the kinds of crimes that occurred in the area. Having a group of armed protesters take control of territory within an American city is a new thing and with that comes new kinds of crimes. Secondly, it was enabled by the city physically moving the officers out of the precinct. This ostensibly had an effect on response time.\n",
    "\n",
    "The aim of this analysis is to determine how crime and SPD's response to crime shifted during the CHOP occupation."
   ]
  },
  {
   "cell_type": "code",
   "execution_count": null,
   "metadata": {},
   "outputs": [],
   "source": []
  }
 ],
 "metadata": {
  "kernelspec": {
   "display_name": "Python 3",
   "language": "python",
   "name": "python3"
  },
  "language_info": {
   "codemirror_mode": {
    "name": "ipython",
    "version": 3
   },
   "file_extension": ".py",
   "mimetype": "text/x-python",
   "name": "python",
   "nbconvert_exporter": "python",
   "pygments_lexer": "ipython3",
   "version": "3.7.7"
  }
 },
 "nbformat": 4,
 "nbformat_minor": 4
}
